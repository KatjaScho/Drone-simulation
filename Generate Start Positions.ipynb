{
 "cells": [
  {
   "cell_type": "markdown",
   "id": "e3e79fe3-ef75-4e4e-aba2-e56b0ecf0a30",
   "metadata": {},
   "source": [
    "# Start configurtion for Agents\n",
    "This notebook creates a .csv file with all relevant information for the simulation. For every angent, a name, the type and a random starting point within the area is created and writen to the file.\n",
    "\n",
    "In the 3rd cell the relevant information can be configured "
   ]
  },
  {
   "cell_type": "code",
   "execution_count": null,
   "id": "b145519a",
   "metadata": {},
   "outputs": [],
   "source": [
    "!pip install geopandas"
   ]
  },
  {
   "cell_type": "code",
   "execution_count": null,
   "id": "3b4c2204-dcfd-4473-8004-cf322cfbe7c5",
   "metadata": {},
   "outputs": [],
   "source": [
    "import os\n",
    "os.environ['USE_PYGEOS'] = '0'\n",
    "\n",
    "import matplotlib.pyplot as plt\n",
    "import pandas as pd\n",
    "import geopandas\n",
    "import numpy as np\n",
    "#import shapely\n",
    "from shapely.geometry import Point\n",
    "#import random"
   ]
  },
  {
   "cell_type": "markdown",
   "id": "e337ec0e-cf08-4d26-ba96-cf79c87cd9ad",
   "metadata": {},
   "source": [
    "## Possible configurations within this notebook:\n",
    " - `number_of_startpositions`: defines the number of generated starting positions \n",
    " - `path` the path where the .geojson file is located and the generated .csv should be\n",
    " - `file` the name of a .geojson file which defines the area the signals should be in"
   ]
  },
  {
   "cell_type": "code",
   "execution_count": null,
   "id": "bac8d2b4",
   "metadata": {},
   "outputs": [],
   "source": [
    "# If you see the following error, it can be ignored:\n",
    "# `ERROR 1: PROJ: proj_create_from_database: Open of /opt/conda/share/proj failed`\n",
    "number_of_startpositions = 15\n",
    "path = './DroneSimulation/Resources/'\n",
    "file = 'area.geojson'\n",
    "\n",
    "res: str = path+ file\n",
    "area = geopandas.read_file(res)"
   ]
  },
  {
   "cell_type": "code",
   "execution_count": null,
   "id": "e05c0ba5-5c7b-46cc-a0aa-e6a11ad4e56f",
   "metadata": {},
   "outputs": [],
   "source": [
    "points = []\n",
    "bounds = area.bounds.values[0]\n",
    "minx = bounds[0]\n",
    "miny = bounds[1]\n",
    "maxx = bounds[2]\n",
    "maxy = bounds[3]\n",
    "while len(points) < number_of_startpositions:\n",
    "    pnt = Point(np.random.uniform(minx, maxx), np.random.uniform(miny, maxy))\n",
    "    if area.contains(pnt)[0]:\n",
    "        points.append(pnt)"
   ]
  },
  {
   "cell_type": "code",
   "execution_count": null,
   "id": "c4799ea2-8998-45a3-bd58-3cdcc4980059",
   "metadata": {},
   "outputs": [],
   "source": [
    "# Plot the polygon\n",
    "area.plot()\n",
    "\n",
    "# Plot the list of points\n",
    "xs = [point.x for point in points]\n",
    "ys = [point.y for point in points]\n",
    "plt.title(\"Starting positions\")\n",
    "plt.scatter(xs, ys,color=\"red\")\n",
    "plt.show()"
   ]
  },
  {
   "cell_type": "code",
   "execution_count": null,
   "id": "703c36b7-e267-4e38-8fc8-9b0b4c2d81ad",
   "metadata": {},
   "outputs": [],
   "source": [
    "positions_dict= {'Latitude':[],'Longitude':[], 'DroneName': [], 'DroneTypeString':[]}\n",
    "name_count = 1\n",
    "\n",
    "for i in points:\n",
    "    positions_dict['Latitude'].append(i.y)\n",
    "    positions_dict['Longitude'].append(i.x)\n",
    "    positions_dict['DroneName'].append(\"Drone_\" + str(name_count))\n",
    "    positions_dict['DroneTypeString'].append(\"Drone\")\n",
    "    name_count += 1\n",
    "    "
   ]
  },
  {
   "cell_type": "code",
   "execution_count": null,
   "id": "41a5a5c6-a81d-40e0-9ad6-adc6d1684971",
   "metadata": {},
   "outputs": [],
   "source": [
    "df = pd.DataFrame(positions_dict)\n",
    "df.to_csv(path +'droneConfig.csv',sep=';', index=False, header=True)"
   ]
  },
  {
   "cell_type": "code",
   "execution_count": null,
   "id": "3a4a6e55-8547-4baf-be0c-b6040638fcf4",
   "metadata": {},
   "outputs": [],
   "source": []
  }
 ],
 "metadata": {
  "kernelspec": {
   "display_name": "Python 3 (ipykernel)",
   "language": "python",
   "name": "python3"
  },
  "language_info": {
   "codemirror_mode": {
    "name": "ipython",
    "version": 3
   },
   "file_extension": ".py",
   "mimetype": "text/x-python",
   "name": "python",
   "nbconvert_exporter": "python",
   "pygments_lexer": "ipython3",
   "version": "3.10.8"
  },
  "vscode": {
   "interpreter": {
    "hash": "aee8b7b246df8f9039afb4144a1f6fd8d2ca17a180786b69acc140d282b71a49"
   }
  }
 },
 "nbformat": 4,
 "nbformat_minor": 5
}
