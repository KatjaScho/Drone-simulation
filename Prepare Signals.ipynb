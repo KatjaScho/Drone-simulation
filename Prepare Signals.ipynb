{
 "cells": [
  {
   "cell_type": "markdown",
   "id": "e3e79fe3-ef75-4e4e-aba2-e56b0ecf0a30",
   "metadata": {},
   "source": [
    "# Create random signals\n",
    "\n",
    "This notebook can be used to create a configured number of random signals within the given area."
   ]
  },
  {
   "cell_type": "code",
   "execution_count": null,
   "id": "b145519a",
   "metadata": {},
   "outputs": [],
   "source": [
    "!pip install geopandas"
   ]
  },
  {
   "cell_type": "code",
   "execution_count": null,
   "id": "3b4c2204-dcfd-4473-8004-cf322cfbe7c5",
   "metadata": {},
   "outputs": [],
   "source": [
    "import os\n",
    "os.environ['USE_PYGEOS'] = '0'\n",
    "\n",
    "from pathlib import Path\n",
    "import matplotlib.pyplot as plt\n",
    "import geopandas\n",
    "import numpy as np\n",
    "from shapely.geometry import Point"
   ]
  },
  {
   "cell_type": "markdown",
   "id": "12cc51f2-fbe9-4c31-84ef-b7c8a4760c14",
   "metadata": {},
   "source": [
    "## Configure and download data\n",
    "\n",
    "Set the variables `path` and `file_name` depending on the name and location of the .geojson file that contains your area of interest. \n",
    "To create the grid layer and the .geojon file you can have a look in the MARS documentation (https://mars.haw-hamburg.de/articles/core/tutorials/create_vector_layer_raster_layer.html)\n",
    "\n",
    "The `number_signals` defines how many signals are generated\n"
   ]
  },
  {
   "cell_type": "code",
   "execution_count": null,
   "id": "bac8d2b4",
   "metadata": {},
   "outputs": [],
   "source": [
    "# If you see the following error, it can be ignored:\n",
    "# `ERROR 1: PROJ: proj_create_from_database: Open of /opt/conda/share/proj failed`\n",
    "path = \"./DroneSimulation/Resources\"\n",
    "file_name = '/area.geojson'\n",
    "\n",
    "res_location: str = path+file_name\n",
    "area = geopandas.read_file(res_location)\n",
    "\n",
    "number_signals = 10"
   ]
  },
  {
   "cell_type": "code",
   "execution_count": null,
   "id": "0ba071bb-808a-4f76-a5d9-620b03c4cb52",
   "metadata": {},
   "outputs": [],
   "source": [
    "area.plot()\n",
    "plt.title(\"The test area\")\n",
    "plt.show()"
   ]
  },
  {
   "cell_type": "code",
   "execution_count": null,
   "id": "e05c0ba5-5c7b-46cc-a0aa-e6a11ad4e56f",
   "metadata": {},
   "outputs": [],
   "source": [
    "points = []\n",
    "bounds = area.bounds.values[0]\n",
    "minx = bounds[0]\n",
    "miny = bounds[1]\n",
    "maxx = bounds[2]\n",
    "maxy = bounds[3]\n",
    "while len(points) < number_signals:\n",
    "    pnt = Point(np.random.uniform(minx, maxx), np.random.uniform(miny, maxy))\n",
    "    if area.contains(pnt)[0]:\n",
    "        points.append(pnt)"
   ]
  },
  {
   "cell_type": "code",
   "execution_count": null,
   "id": "c4799ea2-8998-45a3-bd58-3cdcc4980059",
   "metadata": {},
   "outputs": [],
   "source": [
    "# Plot the polygon\n",
    "area.plot()\n",
    "\n",
    "# Plot the list of points\n",
    "xs = [point.x for point in points]\n",
    "ys = [point.y for point in points]\n",
    "plt.title(\"Signal positions\")\n",
    "plt.scatter(xs, ys,color=\"red\")\n",
    "plt.show()"
   ]
  },
  {
   "cell_type": "code",
   "execution_count": null,
   "id": "703c36b7-e267-4e38-8fc8-9b0b4c2d81ad",
   "metadata": {},
   "outputs": [],
   "source": [
    "signals_dict= {'signal':[],'located':[], 'geometry': []}\n",
    "name_count = 1\n",
    "\n",
    "for i in points:\n",
    "    signals_dict['signal'].append(\"Signal_\" + str(name_count))\n",
    "    signals_dict['located'].append(\"false\")\n",
    "    signals_dict['geometry'].append(i)\n",
    "    name_count += 1\n",
    "    "
   ]
  },
  {
   "cell_type": "code",
   "execution_count": null,
   "id": "c7e32824-dce9-4ed4-a90a-0717d6c36d5f",
   "metadata": {},
   "outputs": [],
   "source": [
    "signal_geopandas = geopandas.GeoDataFrame(signals_dict, crs=\"EPSG:4326\")\n",
    "\n",
    "signal_geopandas.head()"
   ]
  },
  {
   "cell_type": "code",
   "execution_count": null,
   "id": "e7c826ba-ec71-4c80-8936-f3197899bbca",
   "metadata": {},
   "outputs": [],
   "source": [
    "# Save to .geojson file that can be used in MARS\n",
    "res_path = Path(path)\n",
    "res_path.mkdir(parents=True, exist_ok=True)\n",
    "\n",
    "signal_geopandas.to_file(res_path / \"test_signals.geojson\", driver=\"GeoJSON\")"
   ]
  },
  {
   "cell_type": "code",
   "execution_count": null,
   "id": "3a4a6e55-8547-4baf-be0c-b6040638fcf4",
   "metadata": {},
   "outputs": [],
   "source": []
  }
 ],
 "metadata": {
  "kernelspec": {
   "display_name": "Python 3 (ipykernel)",
   "language": "python",
   "name": "python3"
  },
  "language_info": {
   "codemirror_mode": {
    "name": "ipython",
    "version": 3
   },
   "file_extension": ".py",
   "mimetype": "text/x-python",
   "name": "python",
   "nbconvert_exporter": "python",
   "pygments_lexer": "ipython3",
   "version": "3.10.8"
  },
  "vscode": {
   "interpreter": {
    "hash": "aee8b7b246df8f9039afb4144a1f6fd8d2ca17a180786b69acc140d282b71a49"
   }
  }
 },
 "nbformat": 4,
 "nbformat_minor": 5
}
